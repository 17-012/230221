{
 "cells": [
  {
   "cell_type": "code",
   "execution_count": 29,
   "id": "ed72d0a9",
   "metadata": {},
   "outputs": [],
   "source": [
    "num1 = 50\n",
    "num2 = 100"
   ]
  },
  {
   "cell_type": "code",
   "execution_count": 30,
   "id": "68cc8058",
   "metadata": {},
   "outputs": [
    {
     "name": "stdout",
     "output_type": "stream",
     "text": [
      "50 + 100 = 150\n",
      "50 - 100 = -50\n",
      "50 * 100 = 5000\n",
      "50 / 100 = 0.5\n",
      "50 // 100 = 0\n",
      "50 % 100 = 50\n"
     ]
    }
   ],
   "source": [
    "print(num1, '+', num2, '=', (num1+num2))\n",
    "print(num1, '-', num2, '=', (num1-num2))\n",
    "print(num1, '*', num2, '=', (num1*num2))\n",
    "print(num1, '/', num2, '=', (num1/num2))\n",
    "print(num1, '//', num2, '=', (num1//num2))\n",
    "print(num1, '%', num2, '=', (num1%num2))"
   ]
  },
  {
   "cell_type": "code",
   "execution_count": 32,
   "id": "bfdc57d5",
   "metadata": {
    "scrolled": true
   },
   "outputs": [
    {
     "name": "stdout",
     "output_type": "stream",
     "text": [
      "사각형의 가로 : 10\n",
      "사각형의 세로 : 200\n"
     ]
    }
   ],
   "source": [
    "width = int(input('사각형의 가로 : '))\n",
    "height = int(input('사각형의 세로 : '))"
   ]
  },
  {
   "cell_type": "code",
   "execution_count": 37,
   "id": "b01c3daf",
   "metadata": {},
   "outputs": [
    {
     "name": "stdout",
     "output_type": "stream",
     "text": [
      "사각형의 넓이는 : 2000 입니다.\n"
     ]
    }
   ],
   "source": [
    "print('사각형의 넓이는 : %d 입니다.'% (width*height))"
   ]
  }
 ],
 "metadata": {
  "kernelspec": {
   "display_name": "Python 3 (ipykernel)",
   "language": "python",
   "name": "python3"
  },
  "language_info": {
   "codemirror_mode": {
    "name": "ipython",
    "version": 3
   },
   "file_extension": ".py",
   "mimetype": "text/x-python",
   "name": "python",
   "nbconvert_exporter": "python",
   "pygments_lexer": "ipython3",
   "version": "3.10.6"
  }
 },
 "nbformat": 4,
 "nbformat_minor": 5
}
